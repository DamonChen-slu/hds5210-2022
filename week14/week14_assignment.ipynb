{
 "cells": [
  {
   "cell_type": "markdown",
   "metadata": {
    "nbgrader": {
     "grade": false,
     "grade_id": "intro",
     "locked": true,
     "schema_version": 1,
     "solution": false
    }
   },
   "source": [
    "# Working with multiple data sets\n",
    "\n",
    "There are two data files that we'll be working with for this week's assignment.  They are described below.  Load those data files in with Pandas and then work to answering each of the questions below.\n",
    "\n",
    "## npidata.csv\n",
    "\n",
    "This file is basic information about every healthcare provider in the US.  It has one row for each NPI (National Provider Identifier).  It contains information such as the provider's name and address.\n",
    "\n",
    "\n",
    "## cmsYYYY.csv\n",
    "\n",
    "These are files about what kinds of procedures and patients providers in the US are serving under CMS programs, Medicare and Medicaid.  Each contains various statistics about providers over the course of a year.  There are three of these, for the years 2014, 2015, and 2016.  These files, however, don't contain information about the provider such as where the provider is located.\n",
    "\n",
    "## Our Goals\n",
    "\n",
    "For this assignment, we're going to want to compute some statistics based on the data in the **cms** files, but aggregate that data based on information in the **npidata** file.  As in last week's assignment, you'll need to store your answers in a variable called `answer` at the end of each step."
   ]
  },
  {
   "cell_type": "code",
   "execution_count": 1,
   "metadata": {
    "nbgrader": {
     "grade": false,
     "grade_id": "import",
     "locked": true,
     "schema_version": 1,
     "solution": false
    }
   },
   "outputs": [],
   "source": [
    "import pandas as pd"
   ]
  },
  {
   "cell_type": "markdown",
   "metadata": {
    "nbgrader": {
     "grade": false,
     "grade_id": "01-intro",
     "locked": true,
     "schema_version": 1,
     "solution": false
    }
   },
   "source": [
    "## Part 1\n",
    "\n",
    "In this first step, we'll need to merge together all of the **cms** files into a single dataframe.  Be careful that these files might not be identical, so you'll have to look a little bit to figure out how to merge them.\n",
    "\n",
    "As you are merging them, make sure that you retain information about which file (i.e. which year) the data came from.  Call that new columns `year`.\n",
    "\n",
    "In your `answer` variable, provide a complete data frame that contains all of the rows and columns from the **cms** files, plus an additional column to store the year/file that particular row came from.\n",
    "\n",
    "The assertion tests will give you a good idea as to if you're merging the files correctly."
   ]
  },
  {
   "cell_type": "code",
   "execution_count": 19,
   "metadata": {},
   "outputs": [
    {
     "name": "stdout",
     "output_type": "stream",
     "text": [
      "['cms2014.csv', 'lace_rules.json', 'covid_wide.csv', 'californiaDDSDataV2.csv', 'covid19.xlsx', 'people_results.json', 'owid-covid-data.csv', 'people.psv', 'condemn.txt', 'covid_long.csv', 'data', 'product.txt', 'npis.csv', 'cms2016.csv', 'drinking', 'bhmclr_med.xlsx', 'ipps.csv', 'apache_patients.csv', 'hhcaps.csv', 'nppes.csv', 'employees.csv', 'bhmclr_proc.xlsx', 'indian_liver_patient.csv', 'departments.csv', 'saline.xml', 'payer_plans_sbmc.json', 'bhmclr_cpt.xlsx', 'patient.json', 'hospitals.json', 'bhmclr_drg.xlsx', 'est2018-pop-res.csv', 'npidata.csv', 'complications_all.csv', 'flu_2016_2017.csv', 'complications.csv', 'hello-again.txt', 'cms2015.csv', 'patient.xml', 'meetings.csv', 'sbmc_raw.json', 'whiteriver.json', 'ndc.txt', 'allergies.json', 'hello.txt', 'test-patients.csv', 'Health-Care-Data-Sets.xlsx', 'nppes2.csv', 'est2018-pop-res.psv', 'nppes1.csv', 'test_patients.csv']\n"
     ]
    }
   ],
   "source": [
    "# import glob\n",
    "# import os\n",
    "# import re\n",
    "# from math import exp\n",
    "# # print(cmsfile = pd.read_csv(os.path.join('/data','cms*.csv')))\n",
    "# # for csv_file in glob.glob(os.path.join('/data','cms*.csv')):\n",
    "# #     cmsfile = pd.read_csv(os.path.join('/data','cms*.csv'))\n",
    "# # cmsYYYY = pd.read_csv('/data/cms2014.csv')\n",
    "# all_cvs_list = os.listdir(\"/data\")\n",
    "# print(all_cvs_list)"
   ]
  },
  {
   "cell_type": "code",
   "execution_count": 27,
   "metadata": {},
   "outputs": [],
   "source": [
    "cms2014 = pd.read_csv('/data/cms2014.csv')\n",
    "cms2014.columns = cms2014.columns.str.lower()\n",
    "cms2015 = pd.read_csv('/data/cms2015.csv')\n",
    "cms2015.columns = cms2015.columns.str.lower()\n",
    "cms2016 = pd.read_csv('/data/cms2016.csv')\n",
    "cms2016.columns = cms2016.columns.str.lower()"
   ]
  },
  {
   "cell_type": "code",
   "execution_count": 62,
   "metadata": {},
   "outputs": [
    {
     "data": {
      "text/html": [
       "<div>\n",
       "<style scoped>\n",
       "    .dataframe tbody tr th:only-of-type {\n",
       "        vertical-align: middle;\n",
       "    }\n",
       "\n",
       "    .dataframe tbody tr th {\n",
       "        vertical-align: top;\n",
       "    }\n",
       "\n",
       "    .dataframe thead th {\n",
       "        text-align: right;\n",
       "    }\n",
       "</style>\n",
       "<table border=\"1\" class=\"dataframe\">\n",
       "  <thead>\n",
       "    <tr style=\"text-align: right;\">\n",
       "      <th></th>\n",
       "      <th>nbr</th>\n",
       "      <th>npi</th>\n",
       "      <th>provider_type</th>\n",
       "      <th>medicare_participation_indicator</th>\n",
       "      <th>number_of_hcpcs</th>\n",
       "      <th>total_services</th>\n",
       "      <th>total_unique_benes</th>\n",
       "      <th>total_submitted_chrg_amt</th>\n",
       "      <th>total_medicare_allowed_amt</th>\n",
       "      <th>total_medicare_payment_amt</th>\n",
       "      <th>...</th>\n",
       "      <th>beneficiary_cc_depr_percent</th>\n",
       "      <th>beneficiary_cc_diab_percent</th>\n",
       "      <th>beneficiary_cc_hyperl_percent</th>\n",
       "      <th>beneficiary_cc_hypert_percent</th>\n",
       "      <th>beneficiary_cc_ihd_percent</th>\n",
       "      <th>beneficiary_cc_ost_percent</th>\n",
       "      <th>beneficiary_cc_raoa_percent</th>\n",
       "      <th>beneficiary_cc_schiot_percent</th>\n",
       "      <th>beneficiary_cc_strk_percent</th>\n",
       "      <th>beneficiary_average_risk_score</th>\n",
       "    </tr>\n",
       "  </thead>\n",
       "  <tbody>\n",
       "    <tr>\n",
       "      <th>0</th>\n",
       "      <td>1</td>\n",
       "      <td>1003000134</td>\n",
       "      <td>Pathology</td>\n",
       "      <td>Y</td>\n",
       "      <td>18</td>\n",
       "      <td>8704.0</td>\n",
       "      <td>4003</td>\n",
       "      <td>1372997.00</td>\n",
       "      <td>343624.25</td>\n",
       "      <td>256165.66</td>\n",
       "      <td>...</td>\n",
       "      <td>13.0</td>\n",
       "      <td>21.0</td>\n",
       "      <td>46.0</td>\n",
       "      <td>54.0</td>\n",
       "      <td>26.0</td>\n",
       "      <td>9.0</td>\n",
       "      <td>38.0</td>\n",
       "      <td>1.0</td>\n",
       "      <td>3.0</td>\n",
       "      <td>1.0925</td>\n",
       "    </tr>\n",
       "    <tr>\n",
       "      <th>1</th>\n",
       "      <td>19</td>\n",
       "      <td>1003001249</td>\n",
       "      <td>Physical Therapist in Private Practice</td>\n",
       "      <td>Y</td>\n",
       "      <td>7</td>\n",
       "      <td>1792.0</td>\n",
       "      <td>76</td>\n",
       "      <td>131387.15</td>\n",
       "      <td>48363.25</td>\n",
       "      <td>37171.51</td>\n",
       "      <td>...</td>\n",
       "      <td>21.0</td>\n",
       "      <td>36.0</td>\n",
       "      <td>57.0</td>\n",
       "      <td>75.0</td>\n",
       "      <td>24.0</td>\n",
       "      <td>NaN</td>\n",
       "      <td>75.0</td>\n",
       "      <td>0.0</td>\n",
       "      <td>NaN</td>\n",
       "      <td>1.0063</td>\n",
       "    </tr>\n",
       "    <tr>\n",
       "      <th>2</th>\n",
       "      <td>21</td>\n",
       "      <td>1003001322</td>\n",
       "      <td>Mass Immunizer Roster Biller</td>\n",
       "      <td>Y</td>\n",
       "      <td>4</td>\n",
       "      <td>404.0</td>\n",
       "      <td>202</td>\n",
       "      <td>14616.62</td>\n",
       "      <td>12362.20</td>\n",
       "      <td>12115.76</td>\n",
       "      <td>...</td>\n",
       "      <td>7.0</td>\n",
       "      <td>20.0</td>\n",
       "      <td>40.0</td>\n",
       "      <td>43.0</td>\n",
       "      <td>16.0</td>\n",
       "      <td>6.0</td>\n",
       "      <td>21.0</td>\n",
       "      <td>NaN</td>\n",
       "      <td>NaN</td>\n",
       "      <td>0.7684</td>\n",
       "    </tr>\n",
       "    <tr>\n",
       "      <th>3</th>\n",
       "      <td>39</td>\n",
       "      <td>1003002486</td>\n",
       "      <td>Chiropractic</td>\n",
       "      <td>Y</td>\n",
       "      <td>2</td>\n",
       "      <td>136.0</td>\n",
       "      <td>13</td>\n",
       "      <td>5910.00</td>\n",
       "      <td>5013.02</td>\n",
       "      <td>3382.90</td>\n",
       "      <td>...</td>\n",
       "      <td>NaN</td>\n",
       "      <td>NaN</td>\n",
       "      <td>NaN</td>\n",
       "      <td>NaN</td>\n",
       "      <td>NaN</td>\n",
       "      <td>0.0</td>\n",
       "      <td>NaN</td>\n",
       "      <td>0.0</td>\n",
       "      <td>NaN</td>\n",
       "      <td>1.1891</td>\n",
       "    </tr>\n",
       "    <tr>\n",
       "      <th>4</th>\n",
       "      <td>74</td>\n",
       "      <td>1003005430</td>\n",
       "      <td>Psychologist, Clinical</td>\n",
       "      <td>Y</td>\n",
       "      <td>3</td>\n",
       "      <td>201.0</td>\n",
       "      <td>21</td>\n",
       "      <td>32270.00</td>\n",
       "      <td>23437.47</td>\n",
       "      <td>17193.96</td>\n",
       "      <td>...</td>\n",
       "      <td>75.0</td>\n",
       "      <td>NaN</td>\n",
       "      <td>62.0</td>\n",
       "      <td>57.0</td>\n",
       "      <td>NaN</td>\n",
       "      <td>NaN</td>\n",
       "      <td>NaN</td>\n",
       "      <td>0.0</td>\n",
       "      <td>NaN</td>\n",
       "      <td>1.2509</td>\n",
       "    </tr>\n",
       "  </tbody>\n",
       "</table>\n",
       "<p>5 rows × 59 columns</p>\n",
       "</div>"
      ],
      "text/plain": [
       "   nbr         npi                           provider_type  \\\n",
       "0    1  1003000134                               Pathology   \n",
       "1   19  1003001249  Physical Therapist in Private Practice   \n",
       "2   21  1003001322            Mass Immunizer Roster Biller   \n",
       "3   39  1003002486                            Chiropractic   \n",
       "4   74  1003005430                  Psychologist, Clinical   \n",
       "\n",
       "  medicare_participation_indicator  number_of_hcpcs  total_services  \\\n",
       "0                                Y               18          8704.0   \n",
       "1                                Y                7          1792.0   \n",
       "2                                Y                4           404.0   \n",
       "3                                Y                2           136.0   \n",
       "4                                Y                3           201.0   \n",
       "\n",
       "   total_unique_benes  total_submitted_chrg_amt  total_medicare_allowed_amt  \\\n",
       "0                4003                1372997.00                   343624.25   \n",
       "1                  76                 131387.15                    48363.25   \n",
       "2                 202                  14616.62                    12362.20   \n",
       "3                  13                   5910.00                     5013.02   \n",
       "4                  21                  32270.00                    23437.47   \n",
       "\n",
       "   total_medicare_payment_amt  ...  beneficiary_cc_depr_percent  \\\n",
       "0                   256165.66  ...                         13.0   \n",
       "1                    37171.51  ...                         21.0   \n",
       "2                    12115.76  ...                          7.0   \n",
       "3                     3382.90  ...                          NaN   \n",
       "4                    17193.96  ...                         75.0   \n",
       "\n",
       "  beneficiary_cc_diab_percent  beneficiary_cc_hyperl_percent  \\\n",
       "0                        21.0                           46.0   \n",
       "1                        36.0                           57.0   \n",
       "2                        20.0                           40.0   \n",
       "3                         NaN                            NaN   \n",
       "4                         NaN                           62.0   \n",
       "\n",
       "   beneficiary_cc_hypert_percent  beneficiary_cc_ihd_percent  \\\n",
       "0                           54.0                        26.0   \n",
       "1                           75.0                        24.0   \n",
       "2                           43.0                        16.0   \n",
       "3                            NaN                         NaN   \n",
       "4                           57.0                         NaN   \n",
       "\n",
       "   beneficiary_cc_ost_percent  beneficiary_cc_raoa_percent  \\\n",
       "0                         9.0                         38.0   \n",
       "1                         NaN                         75.0   \n",
       "2                         6.0                         21.0   \n",
       "3                         0.0                          NaN   \n",
       "4                         NaN                          NaN   \n",
       "\n",
       "   beneficiary_cc_schiot_percent  beneficiary_cc_strk_percent  \\\n",
       "0                            1.0                          3.0   \n",
       "1                            0.0                          NaN   \n",
       "2                            NaN                          NaN   \n",
       "3                            0.0                          NaN   \n",
       "4                            0.0                          NaN   \n",
       "\n",
       "  beneficiary_average_risk_score  \n",
       "0                         1.0925  \n",
       "1                         1.0063  \n",
       "2                         0.7684  \n",
       "3                         1.1891  \n",
       "4                         1.2509  \n",
       "\n",
       "[5 rows x 59 columns]"
      ]
     },
     "execution_count": 62,
     "metadata": {},
     "output_type": "execute_result"
    }
   ],
   "source": [
    "cms2016.head(5)"
   ]
  },
  {
   "cell_type": "code",
   "execution_count": 63,
   "metadata": {},
   "outputs": [
    {
     "data": {
      "text/plain": [
       "(66229, 59)"
      ]
     },
     "execution_count": 63,
     "metadata": {},
     "output_type": "execute_result"
    }
   ],
   "source": [
    "cms2016.shape"
   ]
  },
  {
   "cell_type": "code",
   "execution_count": 68,
   "metadata": {
    "nbgrader": {
     "grade": false,
     "grade_id": "01-solution",
     "locked": false,
     "schema_version": 1,
     "solution": true
    }
   },
   "outputs": [],
   "source": [
    "all_cms = pd.concat([cms2014, cms2015, cms2016], axis = 0, sort = False, keys = [2014, 2015, 2016], names = ['year']).reset_index(level = 'year')"
   ]
  },
  {
   "cell_type": "code",
   "execution_count": 75,
   "metadata": {},
   "outputs": [
    {
     "data": {
      "text/plain": [
       "(193862, 60)"
      ]
     },
     "execution_count": 75,
     "metadata": {},
     "output_type": "execute_result"
    }
   ],
   "source": [
    "answer = all_cms\n",
    "answer.shape"
   ]
  },
  {
   "cell_type": "code",
   "execution_count": 76,
   "metadata": {
    "nbgrader": {
     "grade": true,
     "grade_id": "01-tests",
     "locked": true,
     "points": 5,
     "schema_version": 1,
     "solution": false
    }
   },
   "outputs": [],
   "source": [
    "assert(answer.shape == (193862, 60))\n",
    "assert(list(answer['year'].unique()) == [2014,2015,2016])\n",
    "assert(set(answer.columns.str.lower()) == set(['year', 'nbr', 'npi', 'provider_type',\n",
    "       'medicare_participation_indicator', 'number_of_hcpcs', 'total_services',\n",
    "       'total_unique_benes', 'total_submitted_chrg_amt',\n",
    "       'total_medicare_allowed_amt', 'total_medicare_payment_amt',\n",
    "       'total_medicare_stnd_amt', 'drug_suppress_indicator',\n",
    "       'number_of_drug_hcpcs', 'total_drug_services',\n",
    "       'total_drug_unique_benes', 'total_drug_submitted_chrg_amt',\n",
    "       'total_drug_medicare_allowed_amt', 'total_drug_medicare_payment_amt',\n",
    "       'total_drug_medicare_stnd_amt', 'med_suppress_indicator',\n",
    "       'number_of_med_hcpcs', 'total_med_services', 'total_med_unique_benes',\n",
    "       'total_med_submitted_chrg_amt', 'total_med_medicare_allowed_amt',\n",
    "       'total_med_medicare_payment_amt', 'total_med_medicare_stnd_amt',\n",
    "       'beneficiary_average_age', 'beneficiary_age_less_65_count',\n",
    "       'beneficiary_age_65_74_count', 'beneficiary_age_75_84_count',\n",
    "       'beneficiary_age_greater_84_count', 'beneficiary_female_count',\n",
    "       'beneficiary_male_count', 'beneficiary_race_white_count',\n",
    "       'beneficiary_race_black_count', 'beneficiary_race_api_count',\n",
    "       'beneficiary_race_hispanic_count', 'beneficiary_race_natind_count',\n",
    "       'beneficiary_race_other_count', 'beneficiary_nondual_count',\n",
    "       'beneficiary_dual_count', 'beneficiary_cc_afib_percent',\n",
    "       'beneficiary_cc_alzrdsd_percent', 'beneficiary_cc_asthma_percent',\n",
    "       'beneficiary_cc_cancer_percent', 'beneficiary_cc_chf_percent',\n",
    "       'beneficiary_cc_ckd_percent', 'beneficiary_cc_copd_percent',\n",
    "       'beneficiary_cc_depr_percent', 'beneficiary_cc_diab_percent',\n",
    "       'beneficiary_cc_hyperl_percent', 'beneficiary_cc_hypert_percent',\n",
    "       'beneficiary_cc_ihd_percent', 'beneficiary_cc_ost_percent',\n",
    "       'beneficiary_cc_raoa_percent', 'beneficiary_cc_schiot_percent',\n",
    "       'beneficiary_cc_strk_percent', 'beneficiary_average_risk_score']))"
   ]
  },
  {
   "cell_type": "code",
   "execution_count": null,
   "metadata": {},
   "outputs": [],
   "source": []
  },
  {
   "cell_type": "markdown",
   "metadata": {
    "nbgrader": {
     "grade": false,
     "grade_id": "02-intro",
     "locked": true,
     "schema_version": 1,
     "solution": false
    }
   },
   "source": [
    "## Part 2\n",
    "\n",
    "In this next part, we're going to join the **cms** data with the provider information in the **/data/npidata.csv** file.  In this join, we don't want to lose any records from the **cms** files, even if no matching provider exists in the **npidata** file.  However, we don't care about any providers from the **npidata** file that don't have records in the **cms** files.  Those providers can be ignored.\n",
    "\n",
    "Join the data files together to create one unified data frame called `answer`.  This dataframe should have all the columns from both **cms** and **npidata** files, joined together using the `npi` column.  \n",
    "\n",
    "Note that `npi` is unique in the **npidata** file."
   ]
  },
  {
   "cell_type": "code",
   "execution_count": 80,
   "metadata": {},
   "outputs": [
    {
     "data": {
      "text/plain": [
       "(251661, 43)"
      ]
     },
     "execution_count": 80,
     "metadata": {},
     "output_type": "execute_result"
    }
   ],
   "source": [
    "npidata = pd.read_csv('/data/npidata.csv')\n",
    "npidata.shape"
   ]
  },
  {
   "cell_type": "code",
   "execution_count": 81,
   "metadata": {},
   "outputs": [],
   "source": [
    "npi_cms = pd.merge(npidata, answer, how = 'left', left_on = 'NPI', right_on = 'npi')"
   ]
  },
  {
   "cell_type": "code",
   "execution_count": 82,
   "metadata": {},
   "outputs": [],
   "source": [
    "answer = npi_cms"
   ]
  },
  {
   "cell_type": "code",
   "execution_count": 83,
   "metadata": {
    "nbgrader": {
     "grade": true,
     "grade_id": "02-tests",
     "locked": true,
     "points": 5,
     "schema_version": 1,
     "solution": false
    }
   },
   "outputs": [
    {
     "ename": "AssertionError",
     "evalue": "",
     "output_type": "error",
     "traceback": [
      "\u001b[0;31m---------------------------------------------------------------------------\u001b[0m",
      "\u001b[0;31mAssertionError\u001b[0m                            Traceback (most recent call last)",
      "\u001b[0;32m<ipython-input-83-6539db35ef6b>\u001b[0m in \u001b[0;36m<module>\u001b[0;34m\u001b[0m\n\u001b[1;32m      1\u001b[0m \u001b[0;32mimport\u001b[0m \u001b[0mnumpy\u001b[0m\u001b[0;34m\u001b[0m\u001b[0;34m\u001b[0m\u001b[0m\n\u001b[0;32m----> 2\u001b[0;31m \u001b[0;32massert\u001b[0m\u001b[0;34m(\u001b[0m\u001b[0manswer\u001b[0m\u001b[0;34m.\u001b[0m\u001b[0mshape\u001b[0m \u001b[0;34m==\u001b[0m \u001b[0;34m(\u001b[0m\u001b[0;36m193862\u001b[0m\u001b[0;34m,\u001b[0m \u001b[0;36m103\u001b[0m\u001b[0;34m)\u001b[0m\u001b[0;34m)\u001b[0m\u001b[0;34m\u001b[0m\u001b[0;34m\u001b[0m\u001b[0m\n\u001b[0m\u001b[1;32m      3\u001b[0m \u001b[0;32massert\u001b[0m\u001b[0;34m(\u001b[0m\u001b[0mlist\u001b[0m\u001b[0;34m(\u001b[0m\u001b[0manswer\u001b[0m\u001b[0;34m[\u001b[0m\u001b[0;34m'Provider Business Mailing Address State Name'\u001b[0m\u001b[0;34m]\u001b[0m\u001b[0;34m.\u001b[0m\u001b[0munique\u001b[0m\u001b[0;34m(\u001b[0m\u001b[0;34m)\u001b[0m\u001b[0;34m)\u001b[0m \u001b[0;34m==\u001b[0m \u001b[0;34m[\u001b[0m\u001b[0;34m'IL'\u001b[0m\u001b[0;34m,\u001b[0m\u001b[0;34m'MO'\u001b[0m\u001b[0;34m,\u001b[0m\u001b[0mnumpy\u001b[0m\u001b[0;34m.\u001b[0m\u001b[0mnan\u001b[0m\u001b[0;34m,\u001b[0m\u001b[0;34m'WY'\u001b[0m\u001b[0;34m]\u001b[0m\u001b[0;34m)\u001b[0m\u001b[0;34m\u001b[0m\u001b[0;34m\u001b[0m\u001b[0m\n\u001b[1;32m      4\u001b[0m \u001b[0;32massert\u001b[0m\u001b[0;34m(\u001b[0m\u001b[0mlist\u001b[0m\u001b[0;34m(\u001b[0m\u001b[0manswer\u001b[0m\u001b[0;34m.\u001b[0m\u001b[0mgroupby\u001b[0m\u001b[0;34m(\u001b[0m\u001b[0;34m'Provider Business Mailing Address State Name'\u001b[0m\u001b[0;34m)\u001b[0m\u001b[0;34m.\u001b[0m\u001b[0mNPI\u001b[0m\u001b[0;34m.\u001b[0m\u001b[0mcount\u001b[0m\u001b[0;34m(\u001b[0m\u001b[0;34m)\u001b[0m\u001b[0;34m)\u001b[0m \u001b[0;34m==\u001b[0m \u001b[0;34m[\u001b[0m\u001b[0;36m111520\u001b[0m\u001b[0;34m,\u001b[0m \u001b[0;36m53366\u001b[0m\u001b[0;34m,\u001b[0m \u001b[0;36m4805\u001b[0m\u001b[0;34m]\u001b[0m\u001b[0;34m)\u001b[0m\u001b[0;34m\u001b[0m\u001b[0;34m\u001b[0m\u001b[0m\n",
      "\u001b[0;31mAssertionError\u001b[0m: "
     ]
    }
   ],
   "source": [
    "import numpy\n",
    "assert(answer.shape == (193862, 103))\n",
    "assert(list(answer['Provider Business Mailing Address State Name'].unique()) == ['IL','MO',numpy.nan,'WY'])\n",
    "assert(list(answer.groupby('Provider Business Mailing Address State Name').NPI.count()) == [111520, 53366, 4805])"
   ]
  },
  {
   "cell_type": "markdown",
   "metadata": {
    "nbgrader": {
     "grade": false,
     "grade_id": "03-intro",
     "locked": true,
     "schema_version": 1,
     "solution": false
    }
   },
   "source": [
    "## Part 3\n",
    "\n",
    "If you did everything right above, you'll notice that grouping by a column with NaN in it will cause some rows to disappear from the aggregation test.  So, let's create a new column called `'State'` that has the same value as whatever is in the `'Provider Business Mailing Address State Name'` column or a value of `'XX'` if there is no state information.\n",
    "\n",
    "Set `answer` to be your final data frame with the new `'State'` column added."
   ]
  },
  {
   "cell_type": "code",
   "execution_count": 5,
   "metadata": {
    "nbgrader": {
     "grade": false,
     "grade_id": "03-solution",
     "locked": false,
     "schema_version": 1,
     "solution": true
    }
   },
   "outputs": [
    {
     "ename": "NameError",
     "evalue": "name 'answer' is not defined",
     "output_type": "error",
     "traceback": [
      "\u001b[0;31m---------------------------------------------------------------------------\u001b[0m",
      "\u001b[0;31mNameError\u001b[0m                                 Traceback (most recent call last)",
      "\u001b[0;32m<ipython-input-5-ef65f7a27cfb>\u001b[0m in \u001b[0;36m<module>\u001b[0;34m\u001b[0m\n\u001b[1;32m      1\u001b[0m \u001b[0;31m### SOLUTION\u001b[0m\u001b[0;34m\u001b[0m\u001b[0;34m\u001b[0m\u001b[0;34m\u001b[0m\u001b[0m\n\u001b[0;32m----> 2\u001b[0;31m \u001b[0manswer\u001b[0m\u001b[0;34m[\u001b[0m\u001b[0;34m'State'\u001b[0m\u001b[0;34m]\u001b[0m \u001b[0;34m=\u001b[0m \u001b[0manswer\u001b[0m\u001b[0;34m[\u001b[0m\u001b[0;34m'Provider Business Mailing Address State Name'\u001b[0m\u001b[0;34m]\u001b[0m\u001b[0;34m.\u001b[0m\u001b[0mfillna\u001b[0m\u001b[0;34m(\u001b[0m\u001b[0;34m'XX'\u001b[0m\u001b[0;34m)\u001b[0m\u001b[0;34m\u001b[0m\u001b[0;34m\u001b[0m\u001b[0m\n\u001b[0m",
      "\u001b[0;31mNameError\u001b[0m: name 'answer' is not defined"
     ]
    }
   ],
   "source": [
    "### SOLUTION\n",
    "answer['State'] = answer['Provider Business Mailing Address State Name'].fillna('XX')"
   ]
  },
  {
   "cell_type": "code",
   "execution_count": 6,
   "metadata": {
    "nbgrader": {
     "grade": true,
     "grade_id": "03-tests",
     "locked": true,
     "points": 5,
     "schema_version": 1,
     "solution": false
    }
   },
   "outputs": [
    {
     "ename": "NameError",
     "evalue": "name 'answer' is not defined",
     "output_type": "error",
     "traceback": [
      "\u001b[0;31m---------------------------------------------------------------------------\u001b[0m",
      "\u001b[0;31mNameError\u001b[0m                                 Traceback (most recent call last)",
      "\u001b[0;32m<ipython-input-6-ead5e4353622>\u001b[0m in \u001b[0;36m<module>\u001b[0;34m\u001b[0m\n\u001b[0;32m----> 1\u001b[0;31m \u001b[0;32massert\u001b[0m\u001b[0;34m(\u001b[0m\u001b[0mlist\u001b[0m\u001b[0;34m(\u001b[0m\u001b[0manswer\u001b[0m\u001b[0;34m.\u001b[0m\u001b[0mgroupby\u001b[0m\u001b[0;34m(\u001b[0m\u001b[0;34m'State'\u001b[0m\u001b[0;34m)\u001b[0m\u001b[0;34m.\u001b[0m\u001b[0mnpi\u001b[0m\u001b[0;34m.\u001b[0m\u001b[0mcount\u001b[0m\u001b[0;34m(\u001b[0m\u001b[0;34m)\u001b[0m\u001b[0;34m)\u001b[0m \u001b[0;34m==\u001b[0m \u001b[0;34m[\u001b[0m\u001b[0;36m111520\u001b[0m\u001b[0;34m,\u001b[0m \u001b[0;36m53366\u001b[0m\u001b[0;34m,\u001b[0m \u001b[0;36m4805\u001b[0m\u001b[0;34m,\u001b[0m \u001b[0;36m24171\u001b[0m\u001b[0;34m]\u001b[0m\u001b[0;34m)\u001b[0m\u001b[0;34m\u001b[0m\u001b[0;34m\u001b[0m\u001b[0m\n\u001b[0m\u001b[1;32m      2\u001b[0m \u001b[0;32massert\u001b[0m\u001b[0;34m(\u001b[0m\u001b[0manswer\u001b[0m\u001b[0;34m.\u001b[0m\u001b[0mshape\u001b[0m \u001b[0;34m==\u001b[0m \u001b[0;34m(\u001b[0m\u001b[0;36m193862\u001b[0m\u001b[0;34m,\u001b[0m \u001b[0;36m104\u001b[0m\u001b[0;34m)\u001b[0m\u001b[0;34m)\u001b[0m\u001b[0;34m\u001b[0m\u001b[0;34m\u001b[0m\u001b[0m\n",
      "\u001b[0;31mNameError\u001b[0m: name 'answer' is not defined"
     ]
    }
   ],
   "source": [
    "assert(list(answer.groupby('State').npi.count()) == [111520, 53366, 4805, 24171])\n",
    "assert(answer.shape == (193862, 104))"
   ]
  },
  {
   "cell_type": "markdown",
   "metadata": {
    "nbgrader": {
     "grade": false,
     "grade_id": "04-intro",
     "locked": true,
     "schema_version": 1,
     "solution": false
    }
   },
   "source": [
    "## Part 4\n",
    "\n",
    "Next, let's summarize the data by year and by State.  Create a pivot table that contains one row for each state and one column for each year.  Within the pivot table, put a sum of total services as the values.\n",
    "\n",
    "Assign `answer` to be that resulting pivot table.  In the tests, I'm going to plot a bar chart of your pivot table."
   ]
  },
  {
   "cell_type": "code",
   "execution_count": 4,
   "metadata": {
    "nbgrader": {
     "grade": false,
     "grade_id": "04-solution",
     "locked": false,
     "schema_version": 1,
     "solution": true
    }
   },
   "outputs": [
    {
     "ename": "NameError",
     "evalue": "name 'answer' is not defined",
     "output_type": "error",
     "traceback": [
      "\u001b[0;31m---------------------------------------------------------------------------\u001b[0m",
      "\u001b[0;31mNameError\u001b[0m                                 Traceback (most recent call last)",
      "\u001b[0;32m<ipython-input-4-d5454523ad28>\u001b[0m in \u001b[0;36m<module>\u001b[0;34m\u001b[0m\n\u001b[1;32m      1\u001b[0m \u001b[0mget_ipython\u001b[0m\u001b[0;34m(\u001b[0m\u001b[0;34m)\u001b[0m\u001b[0;34m.\u001b[0m\u001b[0mrun_line_magic\u001b[0m\u001b[0;34m(\u001b[0m\u001b[0;34m'matplotlib'\u001b[0m\u001b[0;34m,\u001b[0m \u001b[0;34m'inline'\u001b[0m\u001b[0;34m)\u001b[0m\u001b[0;34m\u001b[0m\u001b[0;34m\u001b[0m\u001b[0m\n\u001b[0;32m----> 2\u001b[0;31m \u001b[0manswer\u001b[0m \u001b[0;34m=\u001b[0m \u001b[0manswer\u001b[0m\u001b[0;34m.\u001b[0m\u001b[0mpivot_table\u001b[0m\u001b[0;34m(\u001b[0m\u001b[0mindex\u001b[0m \u001b[0;34m=\u001b[0m \u001b[0;34m'State'\u001b[0m\u001b[0;34m,\u001b[0m \u001b[0mcolumns\u001b[0m \u001b[0;34m=\u001b[0m \u001b[0;34m'year'\u001b[0m\u001b[0;34m,\u001b[0m \u001b[0mvalues\u001b[0m \u001b[0;34m=\u001b[0m \u001b[0;34m'total_services'\u001b[0m\u001b[0;34m,\u001b[0m \u001b[0maggfunc\u001b[0m \u001b[0;34m=\u001b[0m \u001b[0;34m'sum'\u001b[0m\u001b[0;34m)\u001b[0m\u001b[0;34m\u001b[0m\u001b[0;34m\u001b[0m\u001b[0m\n\u001b[0m",
      "\u001b[0;31mNameError\u001b[0m: name 'answer' is not defined"
     ]
    }
   ],
   "source": [
    "%matplotlib inline\n",
    "answer = answer.pivot_table(index = 'State', columns = 'year', values = 'total_services', aggfunc = 'sum')"
   ]
  },
  {
   "cell_type": "code",
   "execution_count": 3,
   "metadata": {
    "nbgrader": {
     "grade": true,
     "grade_id": "04-tests",
     "locked": true,
     "points": 5,
     "schema_version": 1,
     "solution": false
    }
   },
   "outputs": [
    {
     "ename": "NameError",
     "evalue": "name 'answer' is not defined",
     "output_type": "error",
     "traceback": [
      "\u001b[0;31m---------------------------------------------------------------------------\u001b[0m",
      "\u001b[0;31mNameError\u001b[0m                                 Traceback (most recent call last)",
      "\u001b[0;32m<ipython-input-3-db10226393b0>\u001b[0m in \u001b[0;36m<module>\u001b[0;34m\u001b[0m\n\u001b[0;32m----> 1\u001b[0;31m \u001b[0;32massert\u001b[0m\u001b[0;34m(\u001b[0m\u001b[0manswer\u001b[0m\u001b[0;34m.\u001b[0m\u001b[0mshape\u001b[0m \u001b[0;34m==\u001b[0m \u001b[0;34m(\u001b[0m\u001b[0;36m4\u001b[0m\u001b[0;34m,\u001b[0m\u001b[0;36m3\u001b[0m\u001b[0;34m)\u001b[0m\u001b[0;34m)\u001b[0m\u001b[0;34m\u001b[0m\u001b[0;34m\u001b[0m\u001b[0m\n\u001b[0m\u001b[1;32m      2\u001b[0m \u001b[0;32massert\u001b[0m\u001b[0;34m(\u001b[0m\u001b[0manswer\u001b[0m\u001b[0;34m.\u001b[0m\u001b[0msum\u001b[0m\u001b[0;34m(\u001b[0m\u001b[0;34m)\u001b[0m\u001b[0;34m.\u001b[0m\u001b[0msum\u001b[0m\u001b[0;34m(\u001b[0m\u001b[0;34m)\u001b[0m \u001b[0;34m==\u001b[0m \u001b[0;36m519185664.6999999\u001b[0m\u001b[0;34m)\u001b[0m\u001b[0;34m\u001b[0m\u001b[0;34m\u001b[0m\u001b[0m\n\u001b[1;32m      3\u001b[0m \u001b[0;32massert\u001b[0m\u001b[0;34m(\u001b[0m\u001b[0manswer\u001b[0m\u001b[0;34m[\u001b[0m\u001b[0;36m2016\u001b[0m\u001b[0;34m]\u001b[0m\u001b[0;34m.\u001b[0m\u001b[0msum\u001b[0m\u001b[0;34m(\u001b[0m\u001b[0;34m)\u001b[0m \u001b[0;34m==\u001b[0m \u001b[0;36m176596933.80000004\u001b[0m\u001b[0;34m)\u001b[0m\u001b[0;34m\u001b[0m\u001b[0;34m\u001b[0m\u001b[0m\n\u001b[1;32m      4\u001b[0m \u001b[0;32massert\u001b[0m\u001b[0;34m(\u001b[0m\u001b[0manswer\u001b[0m\u001b[0;34m.\u001b[0m\u001b[0mloc\u001b[0m\u001b[0;34m[\u001b[0m\u001b[0;34m'WY'\u001b[0m\u001b[0;34m]\u001b[0m\u001b[0;34m.\u001b[0m\u001b[0msum\u001b[0m\u001b[0;34m(\u001b[0m\u001b[0;34m)\u001b[0m \u001b[0;34m==\u001b[0m \u001b[0;36m10892707.4\u001b[0m\u001b[0;34m)\u001b[0m\u001b[0;34m\u001b[0m\u001b[0;34m\u001b[0m\u001b[0m\n",
      "\u001b[0;31mNameError\u001b[0m: name 'answer' is not defined"
     ]
    }
   ],
   "source": [
    "assert(answer.shape == (4,3))\n",
    "assert(answer.sum().sum() == 519185664.6999999)\n",
    "assert(answer[2016].sum() == 176596933.80000004)\n",
    "assert(answer.loc['WY'].sum() == 10892707.4)"
   ]
  },
  {
   "cell_type": "code",
   "execution_count": 1,
   "metadata": {},
   "outputs": [
    {
     "ename": "NameError",
     "evalue": "name 'answer' is not defined",
     "output_type": "error",
     "traceback": [
      "\u001b[0;31m---------------------------------------------------------------------------\u001b[0m",
      "\u001b[0;31mNameError\u001b[0m                                 Traceback (most recent call last)",
      "\u001b[0;32m<ipython-input-1-5fc75f4fb76d>\u001b[0m in \u001b[0;36m<module>\u001b[0;34m\u001b[0m\n\u001b[1;32m      1\u001b[0m \u001b[0mget_ipython\u001b[0m\u001b[0;34m(\u001b[0m\u001b[0;34m)\u001b[0m\u001b[0;34m.\u001b[0m\u001b[0mrun_line_magic\u001b[0m\u001b[0;34m(\u001b[0m\u001b[0;34m'matplotlib'\u001b[0m\u001b[0;34m,\u001b[0m \u001b[0;34m'inline'\u001b[0m\u001b[0;34m)\u001b[0m\u001b[0;34m\u001b[0m\u001b[0;34m\u001b[0m\u001b[0m\n\u001b[0;32m----> 2\u001b[0;31m \u001b[0manswer\u001b[0m\u001b[0;34m.\u001b[0m\u001b[0mplot\u001b[0m\u001b[0;34m.\u001b[0m\u001b[0mbar\u001b[0m\u001b[0;34m(\u001b[0m\u001b[0;34m)\u001b[0m\u001b[0;34m\u001b[0m\u001b[0;34m\u001b[0m\u001b[0m\n\u001b[0m",
      "\u001b[0;31mNameError\u001b[0m: name 'answer' is not defined"
     ]
    }
   ],
   "source": [
    "%matplotlib inline\n",
    "answer.plot.bar()"
   ]
  },
  {
   "cell_type": "code",
   "execution_count": null,
   "metadata": {},
   "outputs": [],
   "source": []
  },
  {
   "cell_type": "markdown",
   "metadata": {},
   "source": [
    "\n",
    "\n",
    "---\n",
    "\n",
    "\n",
    "\n",
    "## Submitting Your Work\n",
    "\n",
    "In order to submit your work, you'll need to use the `git` command line program to **add** your homework file (this file) to your local repository, **commit** your changes to your local repository, and then **push** those changes up to github.com.  From there, I'll be able to **pull** the changes down and do my grading.  I'll provide some feedback, **commit** and **push** my comments back to you.  Next week, I'll show you how to **pull** down my comments.\n",
    "\n",
    "To run through everything one last time and submit your work:\n",
    "1. Use the `Kernel` -> `Restart Kernel and Run All Cells` menu option to run everything from top to bottom and stop here.\n",
    "2. Follow the instruction on the prompt below to either ssave and submit your work, or continue working.\n",
    "\n",
    "If anything fails along the way with this submission part of the process, let me know.  I'll help you troubleshoort."
   ]
  },
  {
   "cell_type": "markdown",
   "metadata": {},
   "source": [
    "---"
   ]
  },
  {
   "cell_type": "code",
   "execution_count": 1,
   "metadata": {
    "jupyter": {
     "source_hidden": true
    }
   },
   "outputs": [
    {
     "name": "stdin",
     "output_type": "stream",
     "text": [
      "\n",
      "Are you ready to submit your work?\n",
      "1. Click the Save icon (or do Ctrl-S / Cmd-S)\n",
      "2. Type \"yes\" or \"no\" below\n",
      "3. Press Enter\n",
      "\n",
      " \n"
     ]
    },
    {
     "name": "stdout",
     "output_type": "stream",
     "text": [
      "\n",
      "    \n",
      "OK. We can wait.\n",
      "\n"
     ]
    }
   ],
   "source": [
    "a=input('''\n",
    "Are you ready to submit your work?\n",
    "1. Click the Save icon (or do Ctrl-S / Cmd-S)\n",
    "2. Type \"yes\" or \"no\" below\n",
    "3. Press Enter\n",
    "\n",
    "''')\n",
    "\n",
    "if a=='yes':\n",
    "    !git pull\n",
    "    !git add week14_assignment.ipynb\n",
    "    !git commit -a -m \"Submitting the week 14 programming assignment\"\n",
    "    !git push\n",
    "else:\n",
    "    print('''\n",
    "    \n",
    "OK. We can wait.\n",
    "''')"
   ]
  },
  {
   "cell_type": "code",
   "execution_count": null,
   "metadata": {},
   "outputs": [],
   "source": []
  }
 ],
 "metadata": {
  "celltoolbar": "Create Assignment",
  "kernelspec": {
   "display_name": "Python 3",
   "language": "python",
   "name": "python3"
  },
  "language_info": {
   "codemirror_mode": {
    "name": "ipython",
    "version": 3
   },
   "file_extension": ".py",
   "mimetype": "text/x-python",
   "name": "python",
   "nbconvert_exporter": "python",
   "pygments_lexer": "ipython3",
   "version": "3.6.7"
  }
 },
 "nbformat": 4,
 "nbformat_minor": 2
}
