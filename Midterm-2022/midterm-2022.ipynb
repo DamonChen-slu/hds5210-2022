{
 "cells": [
  {
   "cell_type": "markdown",
   "metadata": {},
   "source": [
    "# HDS5210-2022 Midterm\n",
    "\n",
    "In the midterm, you're going to use all of the programming and data management skills you've developed so far to build a risk calculator that pretends to be integrated with a clinical registry.  You'll compute the PRIEST COVID-19 Clinical Severity Score for a series of patients and, based on their risk of an adverse outcome, query a REST web service to find a hospital to transfer them to. The end result of your work will be a list of instructions on where each patient should be discharged: \"home\" if they are below 30% risk and the recommended hospital if they are at or above 30%.\n",
    "\n",
    "Each step in the midterm will build up to form your final solution. Along the way, I've provided plenty of test cases to make sure that you're getting those steps correct.\n",
    "\n",
    "The midterm is due at 11:59 PM CST on Monday, March 14th.\n",
    "\n",
    "---"
   ]
  },
  {
   "cell_type": "markdown",
   "metadata": {},
   "source": [
    "## Step 1: Calculate PRIEST Clinical Severity Score\n",
    "\n",
    "This scoring algorithm can be found [here on the MDCalc website](https://www.mdcalc.com/priest-covid-19-clinical-severity-score#evidence).  \n",
    "\n",
    "1. You will need to write a function called **priest()** with the following input parameters.  \n",
    " * Sex\n",
    " * Age in years\n",
    " * Respiratory rate in breaths per minute\n",
    " * Oxygen saturation as a percent between 0 and 1\n",
    " * Heart rate in beats per minute\n",
    " * Systolic BP in mmHg\n",
    " * Temperature in degrees C\n",
    " * Alertness as a string description\n",
    " * Inspired Oxygen as as string description\n",
    " * Performance Status as a string description\n",
    "2. The function will need to follow the algorithm provided on the MDCalc website to compute a risk percentage that should be returned as a numeric value between 0 and 1.\n",
    "3. Be sure to use docstring documentation and at least three built-in docstring test cases.\n",
    "4. Assume that the input values that are strings could be any combination of upper or lower case. For example: 'male', 'Male', 'MALE', 'MalE' should all be interpretted by your code as male.\n",
    "5. If any of the inputs are invalid (for example a sex value that is not recognizable as male or female) your code should raise a ValueException that includes a message with the invalid input and which parameter that input was provided as.\n",
    "\n",
    "NOTES:\n",
    "1. In the final step there is a rule to convert form raw score to percentile.  In that conversion, 17-25 maps to 59-88% and ≥26 maps to >99%.  For our purposes, we want these to be specific % number outputs.  Use the following rule:\n",
    " * If score is between 17 and 25, percentile should be 0.59\n",
    " * If score is greater than or equal to 26, percentile should be 0.99\n"
   ]
  },
  {
   "cell_type": "code",
   "execution_count": 1,
   "metadata": {},
   "outputs": [],
   "source": [
    "def priest(sex, age, res_rate, oxy_satu, hea_rate, sys_bp, temp, alert, ins_oxy, perf_stat):\n",
    "    \n",
    "    \"\"\"(str, int, int, float, int, int, float, str, str, str) -> str\n",
    "    The function will need to follow the algorithm provided on the MDCalc website to compute a risk percentage\n",
    "    >>> priest(\"MalE\", 80, 24, 0.91, 135, 220, 41, \"Confused or not alert\", \"Supplemental oxygen\", \"Bed/chair bound, no self-care\")\n",
    "    0.59\n",
    "    >>> priest(\"feMale\", 17, 17, 0.98, 90, 120, 37.1, \"Confused or not alert\", \"Air\", \"Unrestricted normal activity\")\n",
    "    0.02\n",
    "    >>> priest(\"feMale\", 45, 46, 0.98, 90, 170, 100.1, \"Confused or not alert\", \"Air\", \"Unrestricted normal activity\")\n",
    "    0.02\n",
    "    \"\"\"\n",
    "    \n",
    "    point = 0\n",
    "    \n",
    "    # sex\n",
    "    if str.lower(sex) == \"male\":\n",
    "        point += 1\n",
    "    elif str.lower(sex) == \"female\":\n",
    "        pass\n",
    "    else :\n",
    "        print(\"The input sex is invaild! It should be <MALE> or <FEMALE>\")\n",
    "        \n",
    "    \n",
    "    # age\n",
    "    if 16 <= age <= 49:\n",
    "        pass\n",
    "    elif 50 < age <= 65:\n",
    "        point += 2\n",
    "    elif 66 <= age <= 80:\n",
    "        point += 3\n",
    "    elif age > 81:\n",
    "        point += 4\n",
    "    else:\n",
    "        print(\"The input age is invaild!\")\n",
    "    \n",
    "    # Respiratory rate\n",
    "    if res_rate < 9:\n",
    "        point += 3\n",
    "    elif 9 <= res_rate < 11:\n",
    "        point += 1\n",
    "    elif 12 <= res_rate <= 20:\n",
    "        pass\n",
    "    elif 21 < res_rate <= 24:\n",
    "        point += 2\n",
    "    else:\n",
    "        point += 3\n",
    "    \n",
    "#     # Oxygen saturation\n",
    "#     if \"%\" in oxy_satu:\n",
    "#         new_oxy = oxy_satu.strip('%') / 100\n",
    "#     elif \"%\" not in oxy_satu:\n",
    "#         new_oxy = oxy_satu\n",
    "#     else:\n",
    "#         print(\"The input Oxygen saturation is invaild! It shoud contant Percent sign(%) in the end!\")\n",
    "#     if new_oxy > 0.95:\n",
    "#         pass\n",
    "#     elif 0.94 < new_oxy <= 0.95:\n",
    "#         point += 1\n",
    "#     elif 0.92 <= new_oxy < 0.93:\n",
    "#         point += 2\n",
    "#     else:\n",
    "#         point += 3\n",
    "\n",
    "        \n",
    "    # Oxygen saturation\n",
    "   \n",
    "    if float(oxy_satu) > 0.95:\n",
    "        pass\n",
    "    elif 0.94 <= float(oxy_satu) <= 0.95:\n",
    "        point += 1\n",
    "    elif 0.92 <= float(oxy_satu) <= 0.93:\n",
    "        point += 2\n",
    "    elif float(oxy_satu) < 0.92:\n",
    "        point += 3\n",
    "    else:\n",
    "        print(\"The input Oxygen saturation is invaild!\")\n",
    "    \n",
    "    # Heart rate\n",
    "    if hea_rate < 41:\n",
    "        point += 3\n",
    "    elif 41 <= hea_rate <= 50:\n",
    "        point += 1\n",
    "    elif 51 <= hea_rate <= 90:\n",
    "        pass\n",
    "    elif 91 <= hea_rate <= 110:\n",
    "        point += 1\n",
    "    elif 111 <= hea_rate <= 130:\n",
    "        point += 2\n",
    "    elif hea_rate > 130:\n",
    "        point += 3\n",
    "    else:\n",
    "        print(\"The input Heart rate is invaild!\")\n",
    "    \n",
    "    # Systolic BP\n",
    "    if sys_bp < 91:\n",
    "        point += 3\n",
    "    elif 91 <= sys_bp <= 100:\n",
    "        point += 2\n",
    "    elif 101 <= sys_bp <= 110:\n",
    "        point += 1\n",
    "    elif 111 <= sys_bp <= 219:\n",
    "        pass\n",
    "    elif sys_bp > 219:\n",
    "        point += 3\n",
    "    else:\n",
    "        print(\"The input Systolic BP is invaild!\")\n",
    "        \n",
    "    # Temperature\n",
    "    temp_c = 0\n",
    "    if temp > 42:\n",
    "        # The input unit is F\n",
    "        temp_c = (temp - 32)/1.8\n",
    "    else:\n",
    "        temp = temp_c\n",
    "    if temp_c < 35.1:\n",
    "        point += 3\n",
    "    elif 35.1 <= temp_c <= 36.0:\n",
    "        point += 1\n",
    "    elif 36.1 <= temp_c <= 38.0:\n",
    "        pass\n",
    "    elif 38.1 <= temp_c <= 39.0:\n",
    "        point += 1\n",
    "    elif temp_c > 39.0:\n",
    "        point += 2\n",
    "    else:\n",
    "        print(\"The input Temperature is invaild!\")\n",
    "    \n",
    "    # alert\n",
    "    if alert == \"alert\":\n",
    "        pass\n",
    "    if alert == \"confused or not alert\":\n",
    "        point += 3\n",
    "    else:\n",
    "        #rint(\"The input alert is invaild!\")\n",
    "        pass\n",
    "        \n",
    "    # ins_oxy\n",
    "    if str.lower(ins_oxy) == \"air\":\n",
    "        pass\n",
    "    elif str.lower(ins_oxy) == \"supplemental oxygen\":\n",
    "        point += 2\n",
    "    else:\n",
    "        print(\"The input Inspired oxygen is invaild!\")\n",
    "    \n",
    "    #perf_stat\n",
    "    if str.lower(perf_stat) == \"unrestricted normal activity\":\n",
    "        pass\n",
    "    elif str.lower(perf_stat) == \"limited strenuous activity, can do light activity\":\n",
    "        point += 1\n",
    "    elif str.lower(perf_stat) == \"limited activity, can self-care\":\n",
    "        point += 2\n",
    "    elif str.lower(perf_stat) == \"limited self-care\":\n",
    "        point += 3\n",
    "    elif str.lower(perf_stat) == \"bed/chair bound, no self-care\":\n",
    "        point += 4\n",
    "    else:\n",
    "        print(\"The input Performance status is invaild!\")\n",
    "    \n",
    "    \n",
    "    # probability \n",
    "    prob = 0\n",
    "    if 0 <= point <= 1:\n",
    "        prob = \"0.01\"\n",
    "    elif 2 <= point <= 3:\n",
    "        prob = \"0.02\"\n",
    "    elif point == 4:\n",
    "        prob = \"0.03\"\n",
    "    elif point == 5:\n",
    "        prob = \"0.09\"\n",
    "    elif point == 6:\n",
    "        prob = \"0.15\"\n",
    "    elif point == 7:\n",
    "        prob = \"0.18\"\n",
    "    elif point == 8:\n",
    "        prob = \"0.22\"\n",
    "    elif point == 9:\n",
    "        prob = \"0.26\"\n",
    "    elif point == 10:\n",
    "        prob = \"0.29\"\n",
    "    elif point == 11:\n",
    "        prob = \"0.34\"\n",
    "    elif point == 12:\n",
    "        prob = \"0.38\"\n",
    "    elif point == 13:\n",
    "        prob = \"0.46\"\n",
    "    elif point == 14:\n",
    "        prob = \"0.47\"\n",
    "    elif point == 15:\n",
    "        prob = \"0.49\"\n",
    "    elif point == 16:\n",
    "        prob = \"0.55\"\n",
    "    elif 17 <= point <= 25:\n",
    "        prob = \"0.59\"\n",
    "    elif point >= 26:\n",
    "        prob = \"0.99\"\n",
    "    \n",
    "    #print(\"The point is \",point)\n",
    "    return float(prob)"
   ]
  },
  {
   "cell_type": "code",
   "execution_count": 2,
   "metadata": {},
   "outputs": [
    {
     "data": {
      "text/plain": [
       "0.02"
      ]
     },
     "execution_count": 2,
     "metadata": {},
     "output_type": "execute_result"
    }
   ],
   "source": [
    "# priest(\"MalxE\", 80, 24, \"91%\", 135, 220, 41, \"Confused or not alert\", \"Supplemental oxygen\", \"Bed/chair bound, no self-care\")\n",
    "priest(\"feMale\", 45, 46, 0.98, 90, 170, 100.1, \"Confused or not alert\", \"Air\", \"Unrestricted normal activity\")"
   ]
  },
  {
   "cell_type": "code",
   "execution_count": 3,
   "metadata": {},
   "outputs": [
    {
     "name": "stdout",
     "output_type": "stream",
     "text": [
      "Finding tests in NoName\n",
      "Trying:\n",
      "    priest(\"MalE\", 80, 24, 0.91, 135, 220, 41, \"Confused or not alert\", \"Supplemental oxygen\", \"Bed/chair bound, no self-care\")\n",
      "Expecting:\n",
      "    0.59\n",
      "ok\n",
      "Trying:\n",
      "    priest(\"feMale\", 17, 17, 0.98, 90, 120, 37.1, \"Confused or not alert\", \"Air\", \"Unrestricted normal activity\")\n",
      "Expecting:\n",
      "    0.02\n",
      "ok\n",
      "Trying:\n",
      "    priest(\"feMale\", 45, 46, 0.98, 90, 170, 100.1, \"Confused or not alert\", \"Air\", \"Unrestricted normal activity\")\n",
      "Expecting:\n",
      "    0.02\n",
      "ok\n"
     ]
    }
   ],
   "source": [
    "import doctest\n",
    "doctest.run_docstring_examples(priest, globals(), verbose=True)"
   ]
  },
  {
   "cell_type": "markdown",
   "metadata": {},
   "source": [
    "## Part 2: Find a hospital\n",
    "\n",
    "The next thing we have to do is figure out where to send this particular patient.  The guidelines on where to send a patient are based on their age (pediatric, adult, geriatric), sex, and risk percentage.  Luckily, you don't have to implement these rules. I already have. All you have to do is use a REST web service that I've created for you.\n",
    "\n",
    "You'll want to use Python to make a call to my REST web service similar to the example URL below. The first part of the URL will be the same for everyone and every request that you make. What you will need to modify for each of your requests is the information after the question mark.\n",
    "\n",
    "```\n",
    "https://oumdj6oci2.execute-api.us-east-1.amazonaws.com/prd/?age=40&sex=male&risk_pct=0.1\n",
    "```\n",
    "\n",
    "The example above asks my web service where a 40-year old male with a risk percetage of 10% should go.  What the web service will return back is a JSON string containing the information you need.  That JSON will look like this:\n",
    "\n",
    "```json\n",
    "{\n",
    "  \"age\": \"40\",\n",
    "  \"sex\": \"male\",\n",
    "  \"risk\": \"0.1\",\n",
    "  \"hospital\": \"Southwest Hospital and Medical Center\"\n",
    "}\n",
    "```\n",
    "\n",
    "1. Your job is to write a function called **find_hospital()** that takes age, sex, and risk as parameters.\n",
    "2. Your function should call this REST web service\n",
    "3. Then your function will need to interpret the JSON it gets and return just the name of the hospital\n",
    "4. If anything fails, return None without raising any exceptions\n",
    "5. Include a good docstring with at least five test cases.\n"
   ]
  },
  {
   "cell_type": "code",
   "execution_count": 4,
   "metadata": {},
   "outputs": [],
   "source": [
    "def find_hospital(age, sex, prob):\n",
    "    \"\"\"(int, str, float) -> str\n",
    "    >>> find_hospital(22, \"female\", 0.99)\n",
    "    'Emory Dunwoody Medical Center'\n",
    "    >>> find_hospital(22, \"female\", 0.01)\n",
    "    'Select Specialty Hospital - Northeast Atlanta'\n",
    "    >>> find_hospital(82, \"female\", 0.99)\n",
    "    'Wesley Woods Geriatric Hospital'\n",
    "    \"\"\"\n",
    "    import requests\n",
    "    import json\n",
    "    query = {\"age\": age, \"sex\":sex, \"risk_pct\": prob}\n",
    "    response = requests.get('https://oumdj6oci2.execute-api.us-east-1.amazonaws.com/prd/?age=40&sex=male&risk_pct=0.1', params=query)\n",
    "    data = response.json()\n",
    "    \n",
    "    return data.get('hospital')"
   ]
  },
  {
   "cell_type": "code",
   "execution_count": 5,
   "metadata": {},
   "outputs": [
    {
     "data": {
      "text/plain": [
       "'Wesley Woods Geriatric Hospital'"
      ]
     },
     "execution_count": 5,
     "metadata": {},
     "output_type": "execute_result"
    }
   ],
   "source": [
    "find_hospital(82, \"female\", 0.99)"
   ]
  },
  {
   "cell_type": "code",
   "execution_count": 6,
   "metadata": {},
   "outputs": [
    {
     "name": "stdout",
     "output_type": "stream",
     "text": [
      "Finding tests in NoName\n",
      "Trying:\n",
      "    find_hospital(22, \"female\", 0.99)\n",
      "Expecting:\n",
      "    'Emory Dunwoody Medical Center'\n",
      "ok\n",
      "Trying:\n",
      "    find_hospital(22, \"female\", 0.01)\n",
      "Expecting:\n",
      "    'Select Specialty Hospital - Northeast Atlanta'\n",
      "ok\n",
      "Trying:\n",
      "    find_hospital(82, \"female\", 0.99)\n",
      "Expecting:\n",
      "    'Wesley Woods Geriatric Hospital'\n",
      "ok\n"
     ]
    }
   ],
   "source": [
    "import doctest\n",
    "doctest.run_docstring_examples(find_hospital, globals(), verbose=True)"
   ]
  },
  {
   "cell_type": "markdown",
   "metadata": {},
   "source": [
    "## Part 3: Get the address for that hospital from a webpage\n",
    "\n",
    "Great! Now we have code to tell us which hospital to send someone to... but we don't know where that hospital is. The next function we need to create is one that looks up the address of that hospital.  All of these hospitals are in Atlanta, Georgia.  We're going to use the list on this webpage to lookup the address for that hospital, based on its name.\n",
    "\n",
    "https://www.officialusa.com/stateguides/health/hospitals/georgia.html\n",
    "\n",
    "1. You need to create a function called **get_address()** that takes hospital name as a parameter and searches the data on the webpage above to find the addres for that hospital.\n",
    "2. I've said that all the hospitals are in Atlanta, but this webpage has hospitals from all of Georgia.  So, make sure you verify that the row of data you're using is in Atlanta, just in case there are hospitals with the same name in different cities.\n",
    "3. Your code will have to parse the HTML on the webpage and turn that into some kind of data structure that you can search through to find the right hospital.\n",
    "4. If you do find more than one matching hospital in Atlanta with the same name, you should raise a KeyError.\n",
    "5. If the hospital name isn't found, the function should raise a KeyError.\n",
    "6. Be sure to use good docstring documentation and includes at least 3 test cases."
   ]
  },
  {
   "cell_type": "code",
   "execution_count": 7,
   "metadata": {},
   "outputs": [],
   "source": [
    "def get_address(hospi_name):\n",
    "    \"\"\"(str) -> (str)\n",
    "    >>> get_address('HUGHES SPALDING CHILDRENS HOSPITAL')\n",
    "    '1711 TULLIE CIRCLE NE'\n",
    "    >>> get_address('EMORY UNIVERSITY HOSPITAL MIDTOWN')\n",
    "    '550 PEACHTREE ST NE'\n",
    "    >>> get_address('WELLSTAR ATLANTA MEDICAL CENTER')\n",
    "    '303 PARKWAY DRIVE NE'\n",
    "    \"\"\"\n",
    "    import requests\n",
    "    import pandas as pd\n",
    "    url = 'https://www.officialusa.com/stateguides/health/hospitals/georgia.html'\n",
    "    \n",
    "    response = requests.get(url)\n",
    "    content = pd.read_html(response.text)\n",
    "    #print(content)\n",
    "    nd = content[0]\n",
    "    \n",
    "    for i in range(len(nd)):\n",
    "        if hospi_name != nd['Hospital Name'][i]:\n",
    "            i += 1\n",
    "        else:\n",
    "            add = nd[\"ADDRESS\"][i]\n",
    "    \n",
    "    return add"
   ]
  },
  {
   "cell_type": "code",
   "execution_count": 8,
   "metadata": {},
   "outputs": [
    {
     "data": {
      "text/plain": [
       "'1711 TULLIE CIRCLE NE'"
      ]
     },
     "execution_count": 8,
     "metadata": {},
     "output_type": "execute_result"
    }
   ],
   "source": [
    "get_address('HUGHES SPALDING CHILDRENS HOSPITAL')"
   ]
  },
  {
   "cell_type": "code",
   "execution_count": 9,
   "metadata": {},
   "outputs": [
    {
     "name": "stdout",
     "output_type": "stream",
     "text": [
      "Finding tests in NoName\n",
      "Trying:\n",
      "    get_address('HUGHES SPALDING CHILDRENS HOSPITAL')\n",
      "Expecting:\n",
      "    '1711 TULLIE CIRCLE NE'\n",
      "ok\n",
      "Trying:\n",
      "    get_address('EMORY UNIVERSITY HOSPITAL MIDTOWN')\n",
      "Expecting:\n",
      "    '550 PEACHTREE ST NE'\n",
      "ok\n",
      "Trying:\n",
      "    get_address('WELLSTAR ATLANTA MEDICAL CENTER')\n",
      "Expecting:\n",
      "    '303 PARKWAY DRIVE NE'\n",
      "ok\n"
     ]
    }
   ],
   "source": [
    "import doctest\n",
    "doctest.run_docstring_examples(get_address, globals(), verbose=True)"
   ]
  },
  {
   "cell_type": "markdown",
   "metadata": {},
   "source": [
    "## Part 4: Run the risk calculator on a population\n",
    "\n",
    "The `/data` folder has a file called `people.psv`.  It is a pipe-delimited (`|`) file with columns that match the inputs for the PRIEST calculation above.\n",
    "\n",
    "In addition, the file has a patient identifier in the first column.\n",
    "\n",
    "1. Write a function called **process_people()** that takes a file name as a parameter. Your Python program should use your code above to process all of these rows, determine the hospital and address, and return a list whose items are a dictionary like `{ patient_number: [sex, age, breath, o2sat, heart, systolic, temp, alertness, inspired, status, hospital, address]}`\n",
    "2. Be sure to use good docstrings, but you don't need any tests in your doc strings.  I've provided those for you below.\n",
    "\n",
    "\n",
    "**NOTE** that when running your code for all the 100 records in the `people.psv` file, it may take a few minutes to complete.  You're making multiple calls to the internet for each record, so that can take a little while.\n"
   ]
  },
  {
   "cell_type": "code",
   "execution_count": 10,
   "metadata": {},
   "outputs": [],
   "source": [
    "def process_people(my_file): \n",
    "    \"\"\"(str) -> (dict)\n",
    "    Run the risk calculator on a population\n",
    "    \"\"\"\n",
    "    import csv \n",
    "    \n",
    "    with open(my_file) as f: \n",
    "        head = [] \n",
    "        rows = [] \n",
    "  \n",
    "        opened = csv.reader(f, delimiter = \"|\")\n",
    "        head = next(opened)\n",
    "        global prob_perpatient\n",
    "        prob_perpatient = {} \n",
    "        for row in opened: \n",
    "            rows.append(row)\n",
    "        \n",
    "        #print(rows)\n",
    "        for i in rows: \n",
    "            patient = i[0]\n",
    "            sex = i[1]\n",
    "            age = int(i[2])\n",
    "            res_rate = int(i[3])\n",
    "            oxy_satu = float(i[4])\n",
    "            hea_rate = int(i[5])\n",
    "            sys_bp = int(i[6])\n",
    "            temp = float(i[7])\n",
    "            alert= str.lower(i[8])\n",
    "            ins_oxy = str.lower(i[9])\n",
    "            perf_stat = str.lower(i[10])\n",
    "\n",
    "            prob_perpatient[patient] = [sex, age, res_rate, oxy_satu, hea_rate, sys_bp, temp, alert, ins_oxy, perf_stat]\n",
    "            for j in prob_perpatient: \n",
    "                prob = priest(sex, age, res_rate, oxy_satu, hea_rate, sys_bp, temp, alert, ins_oxy, perf_stat)\n",
    "            hospital = str.upper(find_hospital(age, sex, prob))\n",
    "            address = get_address(hospital)\n",
    "            \n",
    "            prob_perpatient[patient].append(prob)\n",
    "            prob_perpatient[patient].append(hospital)\n",
    "            prob_perpatient[patient].append(address)\n",
    "            \n",
    "        return prob_perpatient"
   ]
  },
  {
   "cell_type": "code",
   "execution_count": 11,
   "metadata": {},
   "outputs": [],
   "source": [
    "#process_people('./people.psv')"
   ]
  },
  {
   "cell_type": "code",
   "execution_count": 12,
   "metadata": {},
   "outputs": [
    {
     "data": {
      "text/plain": [
       "{'E9559': ['FEMALE',\n",
       "  40,\n",
       "  24,\n",
       "  0.96,\n",
       "  105,\n",
       "  115,\n",
       "  34.9,\n",
       "  'alert',\n",
       "  'air',\n",
       "  'unrestricted normal activity',\n",
       "  0.15,\n",
       "  'SELECT SPECIALTY HOSPITAL - NORTHEAST ATLANTA',\n",
       "  '1821 CLIFTON ROAD NE'],\n",
       " 'E9385': ['Female',\n",
       "  51,\n",
       "  19,\n",
       "  0.99,\n",
       "  90,\n",
       "  91,\n",
       "  38.1,\n",
       "  'alert',\n",
       "  'supplemental oxygen',\n",
       "  'unrestricted normal activity',\n",
       "  0.26,\n",
       "  'SELECT SPECIALTY HOSPITAL - NORTHEAST ATLANTA',\n",
       "  '1821 CLIFTON ROAD NE'],\n",
       " 'E3067': ['female',\n",
       "  40,\n",
       "  29,\n",
       "  0.96,\n",
       "  105,\n",
       "  95,\n",
       "  38.1,\n",
       "  'alert',\n",
       "  'air',\n",
       "  'unrestricted normal activity',\n",
       "  0.26,\n",
       "  'SELECT SPECIALTY HOSPITAL - NORTHEAST ATLANTA',\n",
       "  '1821 CLIFTON ROAD NE'],\n",
       " 'E9422': ['FEMALE',\n",
       "  66,\n",
       "  19,\n",
       "  0.96,\n",
       "  135,\n",
       "  115,\n",
       "  38.1,\n",
       "  'alert',\n",
       "  'air',\n",
       "  'bed/chair bound, no self-care',\n",
       "  0.46,\n",
       "  'WESLEY WOODS GERIATRIC HOSPITAL',\n",
       "  '1821 CLIFTON ROAD, NE'],\n",
       " 'E8661': ['MALE',\n",
       "  18,\n",
       "  22,\n",
       "  0.95,\n",
       "  105,\n",
       "  115,\n",
       "  36.3,\n",
       "  'confused or not alert',\n",
       "  'air',\n",
       "  'unrestricted normal activity',\n",
       "  0.34,\n",
       "  'EMORY DUNWOODY MEDICAL CENTER',\n",
       "  '4500 NORTH SHALLOWFORD ROAD'],\n",
       " 'E6235': ['Male',\n",
       "  16,\n",
       "  23,\n",
       "  0.96,\n",
       "  135,\n",
       "  115,\n",
       "  39.2,\n",
       "  'alert',\n",
       "  'supplemental oxygen',\n",
       "  'unrestricted normal activity',\n",
       "  0.34,\n",
       "  'HUGHES SPALDING CHILDRENS HOSPITAL',\n",
       "  '1711 TULLIE CIRCLE NE'],\n",
       " 'E4451': ['MALE',\n",
       "  40,\n",
       "  8,\n",
       "  0.96,\n",
       "  135,\n",
       "  115,\n",
       "  38.1,\n",
       "  'alert',\n",
       "  'air',\n",
       "  'unrestricted normal activity',\n",
       "  0.29,\n",
       "  'SOUTHWEST HOSPITAL AND MEDICAL CENTER',\n",
       "  '501 FAIRBURN ROAD SW'],\n",
       " 'E8433': ['FEMALE',\n",
       "  40,\n",
       "  23,\n",
       "  0.99,\n",
       "  89,\n",
       "  91,\n",
       "  38.1,\n",
       "  'alert',\n",
       "  'air',\n",
       "  'limited self-care',\n",
       "  0.29,\n",
       "  'SELECT SPECIALTY HOSPITAL - NORTHEAST ATLANTA',\n",
       "  '1821 CLIFTON ROAD NE'],\n",
       " 'E7593': ['FEMALE',\n",
       "  80,\n",
       "  23,\n",
       "  0.96,\n",
       "  105,\n",
       "  115,\n",
       "  38.1,\n",
       "  'alert',\n",
       "  'supplemental oxygen',\n",
       "  'limited activity, can self-care',\n",
       "  0.46,\n",
       "  'WESLEY WOODS GERIATRIC HOSPITAL',\n",
       "  '1821 CLIFTON ROAD, NE']}"
      ]
     },
     "execution_count": 12,
     "metadata": {},
     "output_type": "execute_result"
    }
   ],
   "source": [
    "process_people('./test.txt')"
   ]
  },
  {
   "cell_type": "markdown",
   "metadata": {},
   "source": [
    "## Part 5: Checking your final results\n",
    "\n",
    "The final step is to check your results.  You should be able to compare your results to the output in `people_results.json` in the `/data` folder.  Write some code to check your results.  This does not need to be a function."
   ]
  },
  {
   "cell_type": "code",
   "execution_count": 13,
   "metadata": {},
   "outputs": [
    {
     "data": {
      "text/plain": [
       "99"
      ]
     },
     "execution_count": 13,
     "metadata": {},
     "output_type": "execute_result"
    }
   ],
   "source": [
    "import json \n",
    "with open('./people_results.json') as p_r: \n",
    "    results = json.load(p_r)\n",
    "risk_perpatient = process_people('./people.psv')\n",
    "len(results)"
   ]
  },
  {
   "cell_type": "markdown",
   "metadata": {},
   "source": [
    "---\n",
    "\n",
    "## Check your work above\n",
    "\n",
    "If you didn't get them all correct, take a few minutes to think through those that aren't correct.\n",
    "\n",
    "\n",
    "## Submitting Your Work\n",
    "\n",
    "In order to submit your work, you'll need to use the `git` command line program to **add** your homework file (this file) to your local repository, **commit** your changes to your local repository, and then **push** those changes up to github.com.  From there, I'll be able to **pull** the changes down and do my grading.  I'll provide some feedback, **commit** and **push** my comments back to you.  Next week, I'll show you how to **pull** down my comments.\n",
    "\n",
    "To run through everything one last time and submit your work:\n",
    "1. Use the `Kernel` -> `Restart Kernel and Run All Cells` menu option to run everything from top to bottom and stop here.\n",
    "2. Follow the instruction on the prompt below to either ssave and submit your work, or continue working.\n",
    "\n",
    "If anything fails along the way with this submission part of the process, let me know.  I'll help you troubleshoort."
   ]
  },
  {
   "cell_type": "markdown",
   "metadata": {},
   "source": [
    "---"
   ]
  },
  {
   "cell_type": "code",
   "execution_count": 14,
   "metadata": {
    "jupyter": {
     "source_hidden": true
    }
   },
   "outputs": [
    {
     "name": "stdin",
     "output_type": "stream",
     "text": [
      "\n",
      "Are you ready to submit your work?\n",
      "1. Click the Save icon (or do Ctrl-S / Cmd-S)\n",
      "2. Type \"yes\" or \"no\" below\n",
      "3. Press Enter\n",
      "\n",
      " yes\n"
     ]
    },
    {
     "name": "stdout",
     "output_type": "stream",
     "text": [
      "[main d9bf8bc] Submitting the midterm\n",
      " 2 files changed, 908 insertions(+), 2 deletions(-)\n",
      " create mode 100644 Midterm-2022/midterm-2022.ipynb\n",
      "Counting objects: 6, done.\n",
      "Delta compression using up to 2 threads.\n",
      "Compressing objects: 100% (5/5), done.\n",
      "Writing objects: 100% (6/6), 8.13 KiB | 8.13 MiB/s, done.\n",
      "Total 6 (delta 3), reused 0 (delta 0)\n",
      "remote: Resolving deltas: 100% (3/3), completed with 3 local objects.\u001b[K\n",
      "remote: This repository moved. Please use the new location:\u001b[K\n",
      "remote:   git@github.com:DamonChen-slu/hds5210-2022.git\u001b[K\n",
      "To github.com:damonchen-slu/hds5210-2022.git\n",
      "   b74716a..d9bf8bc  main -> main\n"
     ]
    }
   ],
   "source": [
    "a=input('''\n",
    "Are you ready to submit your work?\n",
    "1. Click the Save icon (or do Ctrl-S / Cmd-S)\n",
    "2. Type \"yes\" or \"no\" below\n",
    "3. Press Enter\n",
    "\n",
    "''')\n",
    "\n",
    "if a=='yes':\n",
    "    !git add \"midterm-2022.ipynb\"\n",
    "    !git commit -a -m \"Submitting the midterm\"\n",
    "    !git push\n",
    "else:\n",
    "    print('''\n",
    "    \n",
    "OK. We can wait.\n",
    "''')"
   ]
  },
  {
   "cell_type": "code",
   "execution_count": 15,
   "metadata": {},
   "outputs": [
    {
     "ename": "NameError",
     "evalue": "name 'yes' is not defined",
     "output_type": "error",
     "traceback": [
      "\u001b[0;31m---------------------------------------------------------------------------\u001b[0m",
      "\u001b[0;31mNameError\u001b[0m                                 Traceback (most recent call last)",
      "\u001b[0;32m<ipython-input-15-084d24bbed96>\u001b[0m in \u001b[0;36m<module>\u001b[0;34m\u001b[0m\n\u001b[0;32m----> 1\u001b[0;31m \u001b[0myes\u001b[0m\u001b[0;34m\u001b[0m\u001b[0;34m\u001b[0m\u001b[0m\n\u001b[0m",
      "\u001b[0;31mNameError\u001b[0m: name 'yes' is not defined"
     ]
    }
   ],
   "source": []
  }
 ],
 "metadata": {
  "kernelspec": {
   "display_name": "Python 3",
   "language": "python",
   "name": "python3"
  },
  "language_info": {
   "codemirror_mode": {
    "name": "ipython",
    "version": 3
   },
   "file_extension": ".py",
   "mimetype": "text/x-python",
   "name": "python",
   "nbconvert_exporter": "python",
   "pygments_lexer": "ipython3",
   "version": "3.6.7"
  }
 },
 "nbformat": 4,
 "nbformat_minor": 4
}
